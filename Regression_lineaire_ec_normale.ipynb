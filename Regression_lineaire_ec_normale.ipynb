{
  "nbformat": 4,
  "nbformat_minor": 0,
  "metadata": {
    "kernelspec": {
      "display_name": "Python 3",
      "language": "python",
      "name": "python3"
    },
    "language_info": {
      "codemirror_mode": {
        "name": "ipython",
        "version": 3
      },
      "file_extension": ".py",
      "mimetype": "text/x-python",
      "name": "python",
      "nbconvert_exporter": "python",
      "pygments_lexer": "ipython3",
      "version": "3.8.3"
    },
    "colab": {
      "name": "Regression_lineaire_ec_normale.ipynb",
      "provenance": [],
      "include_colab_link": true
    }
  },
  "cells": [
    {
      "cell_type": "markdown",
      "metadata": {
        "id": "view-in-github",
        "colab_type": "text"
      },
      "source": [
        "<a href=\"https://colab.research.google.com/github/roxin/psm-machine-learning/blob/master/Regression_lineaire_ec_normale.ipynb\" target=\"_parent\"><img src=\"https://colab.research.google.com/assets/colab-badge.svg\" alt=\"Open In Colab\"/></a>"
      ]
    },
    {
      "cell_type": "markdown",
      "metadata": {
        "id": "CxrbsNLO_THE",
        "colab_type": "text"
      },
      "source": [
        "# Régression linéaire\n",
        "## Avec l'équation normale"
      ]
    },
    {
      "cell_type": "code",
      "metadata": {
        "id": "sypok7nV_THF",
        "colab_type": "code",
        "colab": {},
        "outputId": "f70b14db-91fd-4727-e2e3-19c65a1c019f"
      },
      "source": [
        "# importation bibliothéques\n",
        "import numpy as np\n",
        "from matplotlib import pyplot\n",
        "# definition dataset\n",
        "data = np.array([\n",
        "[0.05, 0.12],\n",
        "[0.18, 0.22],\n",
        "[0.31, 0.35],\n",
        "[0.42, 0.38],\n",
        "[0.54, 0.49],\n",
        "[0.67, 0.84],\n",
        "[0.83, 1.05]])\n",
        "print(data)"
      ],
      "execution_count": null,
      "outputs": [
        {
          "output_type": "stream",
          "text": [
            "[[0.05 0.12]\n",
            " [0.18 0.22]\n",
            " [0.31 0.35]\n",
            " [0.42 0.38]\n",
            " [0.54 0.49]\n",
            " [0.67 0.84]\n",
            " [0.83 1.05]]\n"
          ],
          "name": "stdout"
        }
      ]
    },
    {
      "cell_type": "code",
      "metadata": {
        "id": "1y0BxQS3_THK",
        "colab_type": "code",
        "colab": {},
        "outputId": "516617f0-139c-4340-ee58-8ffce3cfe6d6"
      },
      "source": [
        "# trancher (split) les données en variables d'entrées et de sorties\n",
        "X, y = data[:,0], data[:,1]\n",
        "print('X = ', X)\n",
        "print(X.shape)\n",
        "print('X : vactor ligne avec ', X.shape[0], ' colonnes')\n",
        "print('y =', y)\n",
        "X = X.reshape((len(X), 1))\n",
        "print('X : lignes = ', X.shape[0], ' ; colonnes = ', X.shape[1])\n",
        "print(X.shape)\n",
        "# print(X)\n",
        "# scatter plot\n",
        "#pyplot.scatter(X, y)\n",
        "#pyplot.show()"
      ],
      "execution_count": null,
      "outputs": [
        {
          "output_type": "stream",
          "text": [
            "X =  [0.05 0.18 0.31 0.42 0.54 0.67 0.83]\n",
            "(7,)\n",
            "X : vactor ligne avec  7  colonnes\n",
            "y = [0.12 0.22 0.35 0.38 0.49 0.84 1.05]\n",
            "X : lignes =  7  ; colonnes =  1\n",
            "(7, 1)\n"
          ],
          "name": "stdout"
        }
      ]
    },
    {
      "cell_type": "markdown",
      "metadata": {
        "id": "TJXyL2yI_THN",
        "colab_type": "text"
      },
      "source": [
        "### Equation normale"
      ]
    },
    {
      "cell_type": "markdown",
      "metadata": {
        "id": "TkSUqsFG_THO",
        "colab_type": "text"
      },
      "source": [
        "\\begin{equation*}\n",
        "Xb = y\n",
        "\\end{equation*}"
      ]
    },
    {
      "cell_type": "markdown",
      "metadata": {
        "id": "vCgLpXIb_THO",
        "colab_type": "text"
      },
      "source": [
        "\\begin{equation*}\n",
        "X^T.X.b = X^T.y\n",
        "\\end{equation*}"
      ]
    },
    {
      "cell_type": "markdown",
      "metadata": {
        "id": "GGjALwPN_THP",
        "colab_type": "text"
      },
      "source": [
        "\\begin{equation}\n",
        "b = (X^T.X)^{-1}.X^T.y\n",
        "\\end{equation}"
      ]
    },
    {
      "cell_type": "code",
      "metadata": {
        "id": "-J6yuVxu_THP",
        "colab_type": "code",
        "colab": {}
      },
      "source": [
        "# Solution avec l'équation normale\n",
        "# linalg - linear algebra\n",
        "b = np.linalg.inv(X.T.dot(X)).dot(X.T).dot(y)"
      ],
      "execution_count": null,
      "outputs": []
    },
    {
      "cell_type": "code",
      "metadata": {
        "id": "PWGA2cpq_THS",
        "colab_type": "code",
        "colab": {},
        "outputId": "3f6da823-de90-408a-84a6-dc9c15bcfa40"
      },
      "source": [
        "y_chapeau = X.dot(b)\n",
        "print(y_chapeau)"
      ],
      "execution_count": null,
      "outputs": [
        {
          "output_type": "stream",
          "text": [
            "[0.05793989 0.2085836  0.35922731 0.48669507 0.62575081 0.77639452\n",
            " 0.96180216]\n"
          ],
          "name": "stdout"
        }
      ]
    },
    {
      "cell_type": "code",
      "metadata": {
        "id": "dvlVLfdr_THV",
        "colab_type": "code",
        "colab": {},
        "outputId": "bcec5c0b-caf7-4f22-9739-89fe39fed94f"
      },
      "source": [
        "pyplot.scatter(X, y)\n",
        "pyplot.plot(X, y_chapeau, color='red')\n",
        "pyplot.show()"
      ],
      "execution_count": null,
      "outputs": [
        {
          "output_type": "display_data",
          "data": {
            "image/png": "[encoded data removed]",
            "text/plain": [
              "<Figure size 432x288 with 1 Axes>"
            ]
          },
          "metadata": {
            "tags": [],
            "needs_background": "light"
          }
        }
      ]
    },
    {
      "cell_type": "code",
      "metadata": {
        "id": "vW6jdZtS_THZ",
        "colab_type": "code",
        "colab": {},
        "outputId": "3f1bfa98-c815-4f3d-f9df-7873096d5cf6"
      },
      "source": [
        "diff = y_chapeau - y\n",
        "print(diff)"
      ],
      "execution_count": null,
      "outputs": [
        {
          "output_type": "stream",
          "text": [
            "[-0.06206011 -0.0114164   0.00922731  0.10669507  0.13575081 -0.06360548\n",
            " -0.08819784]\n"
          ],
          "name": "stdout"
        }
      ]
    },
    {
      "cell_type": "code",
      "metadata": {
        "id": "rcZjlLoo_THb",
        "colab_type": "code",
        "colab": {}
      },
      "source": [
        "# Erreur quadratique moyenne"
      ],
      "execution_count": null,
      "outputs": []
    },
    {
      "cell_type": "markdown",
      "metadata": {
        "id": "4JyojsLu_THe",
        "colab_type": "text"
      },
      "source": [
        "###  Mean Square Error  - MSE"
      ]
    },
    {
      "cell_type": "markdown",
      "metadata": {
        "id": "fkI7R_IB_THe",
        "colab_type": "text"
      },
      "source": [
        "\\begin{equation*}\n",
        "MSE = \\frac{1}{2m}\\sum_{i=1}^m(yh^i - y^i)^2\n",
        "\\end{equation*}"
      ]
    },
    {
      "cell_type": "code",
      "metadata": {
        "id": "GEsWxI2F_THf",
        "colab_type": "code",
        "colab": {}
      },
      "source": [
        "diff_carre = np.sum(diff ** 2)\n",
        "MSE = diff_carre / len(y)\n",
        "print(\"MSE =\", MSE)"
      ],
      "execution_count": null,
      "outputs": []
    },
    {
      "cell_type": "code",
      "metadata": {
        "id": "Lca2JADn_THh",
        "colab_type": "code",
        "colab": {}
      },
      "source": [
        ""
      ],
      "execution_count": null,
      "outputs": []
    }
  ]
}