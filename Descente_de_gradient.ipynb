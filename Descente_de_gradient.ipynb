{
  "nbformat": 4,
  "nbformat_minor": 0,
  "metadata": {
    "kernelspec": {
      "display_name": "Python 3",
      "language": "python",
      "name": "python3"
    },
    "language_info": {
      "codemirror_mode": {
        "name": "ipython",
        "version": 3
      },
      "file_extension": ".py",
      "mimetype": "text/x-python",
      "name": "python",
      "nbconvert_exporter": "python",
      "pygments_lexer": "ipython3",
      "version": "3.8.3"
    },
    "varInspector": {
      "cols": {
        "lenName": 16,
        "lenType": 16,
        "lenVar": 40
      },
      "kernels_config": {
        "python": {
          "delete_cmd_postfix": "",
          "delete_cmd_prefix": "del ",
          "library": "var_list.py",
          "varRefreshCmd": "print(var_dic_list())"
        },
        "r": {
          "delete_cmd_postfix": ") ",
          "delete_cmd_prefix": "rm(",
          "library": "var_list.r",
          "varRefreshCmd": "cat(var_dic_list()) "
        }
      },
      "types_to_exclude": [
        "module",
        "function",
        "builtin_function_or_method",
        "instance",
        "_Feature"
      ],
      "window_display": false
    },
    "colab": {
      "name": "Descente_de_gradient.ipynb",
      "provenance": [],
      "include_colab_link": true
    }
  },
  "cells": [
    {
      "cell_type": "markdown",
      "metadata": {
        "id": "view-in-github",
        "colab_type": "text"
      },
      "source": [
        "<a href=\"https://colab.research.google.com/github/roxin/psm-machine-learning/blob/master/Descente_de_gradient.ipynb\" target=\"_parent\"><img src=\"https://colab.research.google.com/assets/colab-badge.svg\" alt=\"Open In Colab\"/></a>"
      ]
    },
    {
      "cell_type": "markdown",
      "metadata": {
        "id": "AvIe7mfsz4y-",
        "colab_type": "text"
      },
      "source": [
        "# Algorithme de la descente de gradient\n",
        "### Source d'inspiration :\n",
        "### https://www.bogotobogo.com/python/python_numpy_batch_gradient_descent_algorithm.php"
      ]
    },
    {
      "cell_type": "markdown",
      "metadata": {
        "id": "NEpX1fU5z4y_",
        "colab_type": "text"
      },
      "source": [
        "### Descente du gradient (descente graduelle)"
      ]
    },
    {
      "cell_type": "markdown",
      "metadata": {
        "id": "hHRc8kCdz4zA",
        "colab_type": "text"
      },
      "source": [
        "### Fonction coût"
      ]
    },
    {
      "cell_type": "markdown",
      "metadata": {
        "id": "g20s9_8qz4zA",
        "colab_type": "text"
      },
      "source": [
        "https://github.com/roxin/psm-machine-learning/blob/master/Regression%20lineaire.ipynb"
      ]
    },
    {
      "cell_type": "markdown",
      "metadata": {
        "id": "JqQzeP8-z4zB",
        "colab_type": "text"
      },
      "source": [
        "![image.png](attachment:image.png)"
      ]
    },
    {
      "cell_type": "markdown",
      "metadata": {
        "id": "zDl4KhFKz4zC",
        "colab_type": "text"
      },
      "source": [
        "![image.png](attachment:image.png)"
      ]
    },
    {
      "cell_type": "code",
      "metadata": {
        "ExecuteTime": {
          "end_time": "2020-09-13T12:52:05.213359Z",
          "start_time": "2020-09-13T12:52:05.207791Z"
        },
        "id": "NxS7_pX7z4zC",
        "colab_type": "code",
        "colab": {}
      },
      "source": [
        "# importation des bibliothéques\n",
        "import numpy as np\n",
        "import matplotlib.pyplot as plt\n",
        "\n",
        "# déclaration d'une fonction pour la descente de gradient\n",
        "def descente_de_gradient(alpha, X, y, iterations):\n",
        "    m = X.shape[0] # number d'echantillons\n",
        "    theta = np.ones(2)\n",
        "    X_transpose = X.transpose()\n",
        "    for iter in range(0, iterations):\n",
        "        hypothesis = np.dot(X, theta)\n",
        "        differences = hypothesis - y\n",
        "        J = np.sum(differences ** 2) / (2 * m)  # fonction coût (objectif)\n",
        "        valJ.append(J)\n",
        "        # print (\"iter %s | J: %.3f\" % (iter, J))      \n",
        "        gradients = np.dot(X_transpose, differences) / m \n",
        "        # gradients = X.T.dot(X.dot(theta) - y) / m\n",
        "        theta = theta - alpha * gradients  # mise à jour / nouveau theta \n",
        "        valTheta_0.append(theta[0])\n",
        "        valTheta_1.append(theta[1])\n",
        "    return theta\n",
        "#"
      ],
      "execution_count": null,
      "outputs": []
    },
    {
      "cell_type": "code",
      "metadata": {
        "ExecuteTime": {
          "end_time": "2020-09-13T12:52:09.973536Z",
          "start_time": "2020-09-13T12:52:09.969544Z"
        },
        "id": "x-hNTFxAz4zG",
        "colab_type": "code",
        "colab": {},
        "outputId": "4836cde2-3e67-476d-99c1-79261c6b7eb9"
      },
      "source": [
        "# Longue serie de données\n",
        "X = 3 * np.random.rand(100, 1)  # genère un vecteur colonne avec 100 éléments (valeurs de 0 à 1) \n",
        "y = 2 + 5 * X + np.random.randn(100, 1)\n",
        "print(np.shape(y))\n",
        "y = y.reshape(100,)\n",
        "print(np.shape(y))"
      ],
      "execution_count": null,
      "outputs": [
        {
          "output_type": "stream",
          "text": [
            "(100, 1)\n",
            "(100,)\n"
          ],
          "name": "stdout"
        }
      ]
    },
    {
      "cell_type": "code",
      "metadata": {
        "ExecuteTime": {
          "end_time": "2020-09-13T16:33:28.085306Z",
          "start_time": "2020-09-13T16:33:28.080982Z"
        },
        "id": "fHIrHYKYz4zJ",
        "colab_type": "code",
        "colab": {},
        "outputId": "b509c154-ab92-409d-8f08-f83c7448c09a"
      },
      "source": [
        "# Série courte de données\n",
        "X = np.array([[3], [4], [6], [10]]) #, [14], [16]]) \n",
        "y = np.array([7, 9, 10, 17]) #, 20, 23])\n",
        "print('X = ',X)\n",
        "print('y = ', y)\n",
        "              "
      ],
      "execution_count": null,
      "outputs": [
        {
          "output_type": "stream",
          "text": [
            "X =  [[ 3]\n",
            " [ 4]\n",
            " [ 6]\n",
            " [10]]\n",
            "y =  [ 7  9 10 17]\n"
          ],
          "name": "stdout"
        }
      ]
    },
    {
      "cell_type": "code",
      "metadata": {
        "ExecuteTime": {
          "end_time": "2020-09-13T16:28:31.508453Z",
          "start_time": "2020-09-13T16:28:31.505493Z"
        },
        "id": "BXWYCO2Rz4zL",
        "colab_type": "code",
        "colab": {},
        "outputId": "b1f35501-1521-41be-e116-30b5458ed027"
      },
      "source": [
        "#print(X, \"\\n\", y)\n",
        "m = np.shape(X)\n",
        "print(m)"
      ],
      "execution_count": null,
      "outputs": [
        {
          "output_type": "stream",
          "text": [
            "(6, 1)\n"
          ],
          "name": "stdout"
        }
      ]
    },
    {
      "cell_type": "code",
      "metadata": {
        "ExecuteTime": {
          "end_time": "2020-09-13T16:29:03.339639Z",
          "start_time": "2020-09-13T16:29:03.320492Z"
        },
        "id": "RR8c69U7z4zO",
        "colab_type": "code",
        "colab": {},
        "outputId": "85dc3a58-29b4-4b0b-c132-31677184cbeb"
      },
      "source": [
        "# concatenation de deux matrices\n",
        "X_b = np.c_[ np.ones(m), X] # insérer une colonne\n",
        "valJ = []                   # mémorisera les valeurs de la fonction objectif J(theta0, theta1)\n",
        "alpha = 0.005               # pas d'apprentissage\n",
        "valTheta_0 = []\n",
        "valTheta_1 = []\n",
        "nombreIterations = 1000\n",
        "#print(valTheta)\n",
        "theta = descente_de_gradient(alpha, X_b, y, nombreIterations)\n",
        "print(X_b.transpose())"
      ],
      "execution_count": null,
      "outputs": [
        {
          "output_type": "stream",
          "text": [
            "[[ 1.  1.  1.  1.  1.  1.]\n",
            " [ 3.  4.  6. 10. 14. 16.]]\n"
          ],
          "name": "stdout"
        }
      ]
    },
    {
      "cell_type": "code",
      "metadata": {
        "ExecuteTime": {
          "end_time": "2020-09-13T12:54:25.911723Z",
          "start_time": "2020-09-13T12:54:25.750447Z"
        },
        "id": "rXagYPW-z4zQ",
        "colab_type": "code",
        "colab": {},
        "outputId": "fcfcae08-657b-49ec-dba6-0431e5c78375"
      },
      "source": [
        "# visualisation\n",
        "for i in range(X_b.shape[1]):\n",
        "    y_predict = theta[0] + theta[1]*X_b \n",
        "\n",
        "plt.plot(X_b[:,1],y,'o',label=\"Prédictions\")\n",
        "plt.plot(X_b,y_predict,'k-')\n",
        "plt.xlabel(\"$X$\", fontsize=18)\n",
        "plt.ylabel(\"$y$\", rotation=0, fontsize=18)\n",
        "plt.legend(loc=\"upper left\", fontsize=14)\n",
        "plt.show()"
      ],
      "execution_count": null,
      "outputs": [
        {
          "output_type": "display_data",
          "data": {
            "image/png": "[encoded data removed]",
            "text/plain": [
              "<Figure size 432x288 with 1 Axes>"
            ]
          },
          "metadata": {
            "tags": [],
            "needs_background": "light"
          }
        }
      ]
    },
    {
      "cell_type": "code",
      "metadata": {
        "ExecuteTime": {
          "end_time": "2020-09-13T12:54:33.721290Z",
          "start_time": "2020-09-13T12:54:33.584014Z"
        },
        "id": "AogVg8Eez4zT",
        "colab_type": "code",
        "colab": {},
        "outputId": "332341ec-54a6-4395-ad85-a12d9eabe70b"
      },
      "source": [
        "# fonction coût\n",
        "plt.plot(range(nombreIterations), valJ)\n",
        "#plt.title('Pas d\\'apprentissage = ', alpha)\n",
        "plt.show()"
      ],
      "execution_count": null,
      "outputs": [
        {
          "output_type": "display_data",
          "data": {
            "image/png": "[encoded data removed]",
            "text/plain": [
              "<Figure size 432x288 with 1 Axes>"
            ]
          },
          "metadata": {
            "tags": [],
            "needs_background": "light"
          }
        }
      ]
    },
    {
      "cell_type": "code",
      "metadata": {
        "ExecuteTime": {
          "end_time": "2020-09-13T12:54:39.673414Z",
          "start_time": "2020-09-13T12:54:39.526014Z"
        },
        "id": "ctmdzZFgz4zV",
        "colab_type": "code",
        "colab": {},
        "outputId": "8f1944a6-ab78-49b2-dfca-5648041d03d9"
      },
      "source": [
        "# valTheta [0] valTheta [1]\n",
        "\"\"\"plt.plot(range(nombreIterations), valTheta_0)\n",
        "plt.show()\n",
        "\"\"\"\n",
        "#print(valTheta_1)\n",
        "plt.plot(range(nombreIterations), valTheta_0)\n",
        "plt.plot(range(nombreIterations), valTheta_1)\n",
        "plt.show()\n"
      ],
      "execution_count": null,
      "outputs": [
        {
          "output_type": "display_data",
          "data": {
            "image/png": "[encoded data removed]",
            "text/plain": [
              "<Figure size 432x288 with 1 Axes>"
            ]
          },
          "metadata": {
            "tags": [],
            "needs_background": "light"
          }
        }
      ]
    },
    {
      "cell_type": "code",
      "metadata": {
        "ExecuteTime": {
          "end_time": "2020-09-13T03:53:42.991083Z",
          "start_time": "2020-09-13T03:53:42.750358Z"
        },
        "id": "xBqot0EFz4zY",
        "colab_type": "code",
        "colab": {},
        "outputId": "c7c332ff-0a36-4d91-cbcf-b5f85be14812"
      },
      "source": [
        "print(theta)\n",
        "print(\"Terminé !\")"
      ],
      "execution_count": null,
      "outputs": [
        {
          "output_type": "display_data",
          "data": {
            "image/png": "[encoded data removed]",
            "text/plain": [
              "<Figure size 432x288 with 1 Axes>"
            ]
          },
          "metadata": {
            "tags": [],
            "needs_background": "light"
          }
        },
        {
          "output_type": "display_data",
          "data": {
            "image/png": "[encoded data removed]",
            "text/plain": [
              "<Figure size 432x288 with 1 Axes>"
            ]
          },
          "metadata": {
            "tags": [],
            "needs_background": "light"
          }
        },
        {
          "output_type": "stream",
          "text": [
            "[2.77577901 4.51506986]\n",
            "Terminé !\n"
          ],
          "name": "stdout"
        }
      ]
    }
  ]
}