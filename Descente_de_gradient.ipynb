{
  "nbformat": 4,
  "nbformat_minor": 0,
  "metadata": {
    "kernelspec": {
      "display_name": "Python 3",
      "language": "python",
      "name": "python3"
    },
    "language_info": {
      "codemirror_mode": {
        "name": "ipython",
        "version": 3
      },
      "file_extension": ".py",
      "mimetype": "text/x-python",
      "name": "python",
      "nbconvert_exporter": "python",
      "pygments_lexer": "ipython3",
      "version": "3.8.3"
    },
    "varInspector": {
      "cols": {
        "lenName": 16,
        "lenType": 16,
        "lenVar": 40
      },
      "kernels_config": {
        "python": {
          "delete_cmd_postfix": "",
          "delete_cmd_prefix": "del ",
          "library": "var_list.py",
          "varRefreshCmd": "print(var_dic_list())"
        },
        "r": {
          "delete_cmd_postfix": ") ",
          "delete_cmd_prefix": "rm(",
          "library": "var_list.r",
          "varRefreshCmd": "cat(var_dic_list()) "
        }
      },
      "types_to_exclude": [
        "module",
        "function",
        "builtin_function_or_method",
        "instance",
        "_Feature"
      ],
      "window_display": false
    },
    "colab": {
      "name": "Descente_de_gradient.ipynb",
      "provenance": [],
      "include_colab_link": true
    }
  },
  "cells": [
    {
      "cell_type": "markdown",
      "metadata": {
        "id": "view-in-github",
        "colab_type": "text"
      },
      "source": [
        "<a href=\"https://colab.research.google.com/github/roxin/psm-machine-learning/blob/master/Descente_de_gradient.ipynb\" target=\"_parent\"><img src=\"https://colab.research.google.com/assets/colab-badge.svg\" alt=\"Open In Colab\"/></a>"
      ]
    },
    {
      "cell_type": "markdown",
      "metadata": {
        "id": "jpoYHDHo6Ya0"
      },
      "source": [
        "# Algorithme de la descente de gradient\n",
        "### Source d'inspiration :\n",
        "### https://www.bogotobogo.com/python/python_numpy_batch_gradient_descent_algorithm.php"
      ]
    },
    {
      "cell_type": "markdown",
      "metadata": {
        "id": "oFq5HwUE6Ya1"
      },
      "source": [
        "### Descente du gradient (descente graduelle)"
      ]
    },
    {
      "cell_type": "markdown",
      "metadata": {
        "id": "HCoo_tO26Ya2"
      },
      "source": [
        "### Fonction coût"
      ]
    },
    {
      "cell_type": "markdown",
      "metadata": {
        "id": "OIno64Rp6ihR"
      },
      "source": [
        "\\begin{equation*}\n",
        "J \\left(\\theta_0, \\theta_1\\right) = \\frac{1}{2m}\\sum_{i=1}^m ( h_\\theta(x_i)- y_i)^2\n",
        "\\end{equation*}"
      ]
    },
    {
      "cell_type": "markdown",
      "metadata": {
        "id": "0IEYRPXs79S7"
      },
      "source": [
        "Algorithme de la descente du gradient :\n",
        "\n",
        "     Répeter jusqu'à la convergence :\n",
        "\\begin{equation*}\n",
        "\\theta_0 := \\theta_0 - \\alpha \\frac{1}{m}\\sum_{i=1}^m ( h_\\theta(x_i)- y_i)\n",
        "\\end{equation*}"
      ]
    },
    {
      "cell_type": "markdown",
      "metadata": {
        "id": "pPhugYuc-G1-"
      },
      "source": [
        "\\begin{equation*}\n",
        "\\theta_1 := \\theta_1 - \\alpha \\frac{1}{m}\\sum_{i=1}^m ( h_\\theta(x_i)- y_i)x_i\n",
        "\\end{equation*}"
      ]
    },
    {
      "cell_type": "code",
      "source": [
        "# importation des bibliothéques\n",
        "import numpy as np\n",
        "import matplotlib.pyplot as plt"
      ],
      "metadata": {
        "id": "Ov602E-I6PBX"
      },
      "execution_count": 1,
      "outputs": []
    },
    {
      "cell_type": "code",
      "metadata": {
        "ExecuteTime": {
          "end_time": "2020-09-13T12:52:05.213359Z",
          "start_time": "2020-09-13T12:52:05.207791Z"
        },
        "id": "RTREml0f6Ya4"
      },
      "source": [
        "# déclaration d'une fonction pour la descente de gradient\n",
        "def descente_de_gradient(alpha, X, y, iterations):\n",
        "    m = X.shape[0] # number d'echantillons\n",
        "    theta = np.ones(2)\n",
        "    X_transpose = X.transpose()\n",
        "    for iter in range(0, iterations):\n",
        "        hypothesis = np.dot(X, theta)\n",
        "        differences = hypothesis - y\n",
        "        J = np.sum(differences ** 2) / (2 * m)  # fonction coût (objectif)\n",
        "        valJ.append(J)\n",
        "        # print (\"iter %s | J: %.3f\" % (iter, J))      \n",
        "        gradients = np.dot(X_transpose, differences) / m \n",
        "        # gradients = X.T.dot(X.dot(theta) - y) / m\n",
        "        theta = theta - alpha * gradients  # mise à jour / nouveau theta \n",
        "        valTheta_0.append(theta[0])\n",
        "        valTheta_1.append(theta[1])\n",
        "    return theta\n",
        "#"
      ],
      "execution_count": 2,
      "outputs": []
    },
    {
      "cell_type": "code",
      "metadata": {
        "ExecuteTime": {
          "end_time": "2020-09-13T12:52:09.973536Z",
          "start_time": "2020-09-13T12:52:09.969544Z"
        },
        "id": "YORc1oVy6Ya7",
        "colab": {
          "base_uri": "https://localhost:8080/"
        },
        "outputId": "bc1862a2-cb92-4732-b41d-7028fe243975"
      },
      "source": [
        "# Longue serie de données\n",
        "X = 3 * np.random.rand(100, 1)  # genère un vecteur colonne avec 100 éléments (valeurs de 0 à 1) \n",
        "y = 2 + 5 * X + np.random.randn(100, 1)\n",
        "print(np.shape(y))\n",
        "y = y.reshape(100,)\n",
        "print(np.shape(y))"
      ],
      "execution_count": 3,
      "outputs": [
        {
          "output_type": "stream",
          "name": "stdout",
          "text": [
            "(100, 1)\n",
            "(100,)\n"
          ]
        }
      ]
    },
    {
      "cell_type": "code",
      "metadata": {
        "ExecuteTime": {
          "end_time": "2020-09-13T16:33:28.085306Z",
          "start_time": "2020-09-13T16:33:28.080982Z"
        },
        "id": "bzg1KcRS6Ya_",
        "outputId": "77521165-3b5c-4025-b017-2dd19276f3a7"
      },
      "source": [
        "# Série courte de données\n",
        "X = np.array([[3], [4], [6], [10]]) #, [14], [16]]) \n",
        "y = np.array([7, 9, 10, 17]) #, 20, 23])\n",
        "print('X = ',X)\n",
        "print('y = ', y)\n",
        "              "
      ],
      "execution_count": null,
      "outputs": [
        {
          "output_type": "stream",
          "text": [
            "X =  [[ 3]\n",
            " [ 4]\n",
            " [ 6]\n",
            " [10]]\n",
            "y =  [ 7  9 10 17]\n"
          ],
          "name": "stdout"
        }
      ]
    },
    {
      "cell_type": "code",
      "metadata": {
        "ExecuteTime": {
          "end_time": "2020-09-13T16:28:31.508453Z",
          "start_time": "2020-09-13T16:28:31.505493Z"
        },
        "id": "hCFWrqtn6YbB",
        "colab": {
          "base_uri": "https://localhost:8080/"
        },
        "outputId": "2db2b59d-7f59-478b-ea8e-84c54f5fb5de"
      },
      "source": [
        "#print(X, \"\\n\", y)\n",
        "m = np.shape(X)\n",
        "print(m)"
      ],
      "execution_count": 4,
      "outputs": [
        {
          "output_type": "stream",
          "name": "stdout",
          "text": [
            "(100, 1)\n"
          ]
        }
      ]
    },
    {
      "cell_type": "code",
      "metadata": {
        "ExecuteTime": {
          "end_time": "2020-09-13T16:29:03.339639Z",
          "start_time": "2020-09-13T16:29:03.320492Z"
        },
        "id": "i8R5OB4M6YbE"
      },
      "source": [
        "# concatenation de deux matrices\n",
        "X_b = np.c_[ np.ones(m), X] # insérer une colonne\n",
        "valJ = []                   # mémorisera les valeurs de la fonction objectif J(theta0, theta1)\n",
        "alpha = 0.005               # pas d'apprentissage\n",
        "valTheta_0 = []\n",
        "valTheta_1 = []\n",
        "nombreIterations = 1000\n",
        "# print(X_b)"
      ],
      "execution_count": 9,
      "outputs": []
    },
    {
      "cell_type": "code",
      "source": [
        "# appel fonctio descente_de_gradient\n",
        "theta = descente_de_gradient(alpha, X_b, y, nombreIterations)\n"
      ],
      "metadata": {
        "id": "Np1gy-n16s7s"
      },
      "execution_count": 10,
      "outputs": []
    },
    {
      "cell_type": "code",
      "metadata": {
        "ExecuteTime": {
          "end_time": "2020-09-13T12:54:25.911723Z",
          "start_time": "2020-09-13T12:54:25.750447Z"
        },
        "id": "LUKJRaZw6YbG",
        "colab": {
          "base_uri": "https://localhost:8080/",
          "height": 287
        },
        "outputId": "c6e47837-c89a-4b2a-edef-3faaa3b1679d"
      },
      "source": [
        "# visualisation\n",
        "for i in range(X_b.shape[1]):\n",
        "    y_predict = theta[0] + theta[1]*X_b \n",
        "\n",
        "plt.plot(X_b[:,1],y,'o',label=\"Prédictions\")\n",
        "plt.plot(X_b,y_predict,'k-')\n",
        "plt.xlabel(\"$X$\", fontsize=18)\n",
        "plt.ylabel(\"$y$ \", rotation=0, fontsize=18)\n",
        "plt.legend(loc=\"upper left\", fontsize=14)\n",
        "plt.show()"
      ],
      "execution_count": 11,
      "outputs": [
        {
          "output_type": "display_data",
          "data": {
            "text/plain": [
              "<Figure size 432x288 with 1 Axes>"
            ],
            "image/png": "[encoded data removed]"
          },
          "metadata": {
            "needs_background": "light"
          }
        }
      ]
    },
    {
      "cell_type": "code",
      "metadata": {
        "ExecuteTime": {
          "end_time": "2020-09-13T12:54:33.721290Z",
          "start_time": "2020-09-13T12:54:33.584014Z"
        },
        "id": "t_JXLMFz6YbJ",
        "colab": {
          "base_uri": "https://localhost:8080/",
          "height": 268
        },
        "outputId": "d8122512-a9cf-4a29-f9c8-924944f2fc2e"
      },
      "source": [
        "# fonction coût\n",
        "plt.plot(range(nombreIterations), valJ)\n",
        "#plt.title('Pas d\\'apprentissage = ', alpha)\n",
        "plt.show()"
      ],
      "execution_count": 13,
      "outputs": [
        {
          "output_type": "display_data",
          "data": {
            "text/plain": [
              "<Figure size 432x288 with 1 Axes>"
            ],
            "image/png": "[encoded data removed]"
          },
          "metadata": {
            "needs_background": "light"
          }
        }
      ]
    },
    {
      "cell_type": "code",
      "metadata": {
        "ExecuteTime": {
          "end_time": "2020-09-13T12:54:39.673414Z",
          "start_time": "2020-09-13T12:54:39.526014Z"
        },
        "id": "NhyMFbaY6YbM",
        "colab": {
          "base_uri": "https://localhost:8080/",
          "height": 265
        },
        "outputId": "b5187fca-1e4f-4ea2-e80a-9605da2c6fcf"
      },
      "source": [
        "# valTheta [0] valTheta [1]\n",
        "\"\"\"plt.plot(range(nombreIterations), valTheta_0)\n",
        "plt.show()\n",
        "\"\"\"\n",
        "#print(valTheta_1)\n",
        "plt.plot(range(nombreIterations), valTheta_0)\n",
        "plt.plot(range(nombreIterations), valTheta_1)\n",
        "plt.show()\n"
      ],
      "execution_count": 14,
      "outputs": [
        {
          "output_type": "display_data",
          "data": {
            "text/plain": [
              "<Figure size 432x288 with 1 Axes>"
            ],
            "image/png": "[encoded data removed]"
          },
          "metadata": {
            "needs_background": "light"
          }
        }
      ]
    },
    {
      "cell_type": "code",
      "metadata": {
        "ExecuteTime": {
          "end_time": "2020-09-13T03:53:42.991083Z",
          "start_time": "2020-09-13T03:53:42.750358Z"
        },
        "id": "Z5RDxCcT6YbP",
        "colab": {
          "base_uri": "https://localhost:8080/"
        },
        "outputId": "20ff8aa2-53b8-47d2-a8ca-6dd012bd92e4"
      },
      "source": [
        "print(theta)\n",
        "print(\"Terminé !\")"
      ],
      "execution_count": 15,
      "outputs": [
        {
          "output_type": "stream",
          "name": "stdout",
          "text": [
            "[2.48090029 4.70216081]\n",
            "Terminé !\n"
          ]
        }
      ]
    }
  ]
}