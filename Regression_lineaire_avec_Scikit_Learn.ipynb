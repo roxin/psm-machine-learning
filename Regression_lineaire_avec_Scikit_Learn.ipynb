{
  "nbformat": 4,
  "nbformat_minor": 0,
  "metadata": {
    "kernelspec": {
      "display_name": "Python 3",
      "language": "python",
      "name": "python3"
    },
    "language_info": {
      "codemirror_mode": {
        "name": "ipython",
        "version": 3
      },
      "file_extension": ".py",
      "mimetype": "text/x-python",
      "name": "python",
      "nbconvert_exporter": "python",
      "pygments_lexer": "ipython3",
      "version": "3.8.3"
    },
    "varInspector": {
      "cols": {
        "lenName": 16,
        "lenType": 16,
        "lenVar": 40
      },
      "kernels_config": {
        "python": {
          "delete_cmd_postfix": "",
          "delete_cmd_prefix": "del ",
          "library": "var_list.py",
          "varRefreshCmd": "print(var_dic_list())"
        },
        "r": {
          "delete_cmd_postfix": ") ",
          "delete_cmd_prefix": "rm(",
          "library": "var_list.r",
          "varRefreshCmd": "cat(var_dic_list()) "
        }
      },
      "types_to_exclude": [
        "module",
        "function",
        "builtin_function_or_method",
        "instance",
        "_Feature"
      ],
      "window_display": false
    },
    "colab": {
      "name": "Regression lineaire_avec Scikit-Learn.ipynb",
      "provenance": [],
      "include_colab_link": true
    }
  },
  "cells": [
    {
      "cell_type": "markdown",
      "metadata": {
        "id": "view-in-github",
        "colab_type": "text"
      },
      "source": [
        "<a href=\"https://colab.research.google.com/github/roxin/psm-machine-learning/blob/master/Regression_lineaire_avec_Scikit_Learn.ipynb\" target=\"_parent\"><img src=\"https://colab.research.google.com/assets/colab-badge.svg\" alt=\"Open In Colab\"/></a>"
      ]
    },
    {
      "cell_type": "markdown",
      "metadata": {
        "id": "RKVXFE0h-o4y",
        "colab_type": "text"
      },
      "source": [
        "# Fonctions de régression avec Scikit-Learn"
      ]
    },
    {
      "cell_type": "code",
      "metadata": {
        "id": "82pGuYh2-o4z",
        "colab_type": "code",
        "colab": {}
      },
      "source": [
        ""
      ],
      "execution_count": null,
      "outputs": []
    },
    {
      "cell_type": "code",
      "metadata": {
        "ExecuteTime": {
          "end_time": "2020-09-13T14:40:04.045848Z",
          "start_time": "2020-09-13T14:40:03.752827Z"
        },
        "id": "Xe98k3i_-o43",
        "colab_type": "code",
        "colab": {}
      },
      "source": [
        "# Importation des bibliotéques\n",
        "# Python ≥3.5 est exigé \n",
        "import sys\n",
        "assert sys.version_info >= (3, 5)\n",
        "\n",
        "# Scikit-Learn ≥0.20 est exigé\n",
        "import sklearn\n",
        "assert sklearn.__version__ >= \"0.20\"\n",
        "\n",
        "# Bibliothéques standards\n",
        "import numpy as np\n",
        "import os\n",
        "\n",
        "# Pour visualisation des données\n",
        "%matplotlib inline\n",
        "import matplotlib as mpl\n",
        "import matplotlib.pyplot as plt\n",
        "mpl.rc('axes', labelsize=14)\n",
        "mpl.rc('xtick', labelsize=12)\n",
        "mpl.rc('ytick', labelsize=12)"
      ],
      "execution_count": null,
      "outputs": []
    },
    {
      "cell_type": "markdown",
      "metadata": {
        "id": "Ag1nTWPP-o45",
        "colab_type": "text"
      },
      "source": [
        "## Régression linéaire"
      ]
    },
    {
      "cell_type": "code",
      "metadata": {
        "ExecuteTime": {
          "end_time": "2020-09-13T14:40:30.893042Z",
          "start_time": "2020-09-13T14:40:30.889829Z"
        },
        "id": "mhV-Eyva-o46",
        "colab_type": "code",
        "colab": {}
      },
      "source": [
        "# Simulation des données \n",
        "m = 100  # augmenter le nombre d'échantillons à 1000 ou 10000\n",
        "X = 6 * np.random.rand(m, 1) - 3\n",
        "y = 2 + 4 * X + np.random.randn(m, 1)"
      ],
      "execution_count": null,
      "outputs": []
    },
    {
      "cell_type": "code",
      "metadata": {
        "ExecuteTime": {
          "end_time": "2020-09-13T14:40:35.327283Z",
          "start_time": "2020-09-13T14:40:35.321488Z"
        },
        "id": "8EfJDv0K-o48",
        "colab_type": "code",
        "colab": {},
        "outputId": "393b53a5-3165-43b8-9f00-ba60d061aa76"
      },
      "source": [
        "# choix du modèle\n",
        "from sklearn.linear_model import LinearRegression\n",
        "modele_lin_reg = LinearRegression()\n",
        "modele_lin_reg.fit(X, y)\n",
        "modele_lin_reg.intercept_, modele_lin_reg.coef_"
      ],
      "execution_count": null,
      "outputs": [
        {
          "output_type": "execute_result",
          "data": {
            "text/plain": [
              "(array([1.96794402]), array([[3.9665215]]))"
            ]
          },
          "metadata": {
            "tags": []
          },
          "execution_count": 14
        }
      ]
    },
    {
      "cell_type": "code",
      "metadata": {
        "ExecuteTime": {
          "end_time": "2020-09-13T14:41:06.409628Z",
          "start_time": "2020-09-13T14:41:06.406328Z"
        },
        "id": "d5B2p7SH-o4_",
        "colab_type": "code",
        "colab": {}
      },
      "source": [
        "# Prévisions \n",
        "X_new = np.array([[0.3], [1.4], [2.7] ])\n",
        "y_predict = modele_lin_reg.predict(X_new)"
      ],
      "execution_count": null,
      "outputs": []
    },
    {
      "cell_type": "code",
      "metadata": {
        "ExecuteTime": {
          "end_time": "2020-09-13T14:41:12.253539Z",
          "start_time": "2020-09-13T14:41:12.106100Z"
        },
        "id": "B8r296oc-o5C",
        "colab_type": "code",
        "colab": {},
        "outputId": "b19444fe-1f33-4681-88ed-071a2e0732a9"
      },
      "source": [
        "# Visualisation des données\n",
        "plt.plot(X_new, y_predict, \"r-\", linewidth=2, label=\"Prédictions\")\n",
        "plt.plot(X, y, \"b.\")\n",
        "plt.xlabel(\"$x_1$\", fontsize=18)\n",
        "plt.ylabel(\"$y$\", rotation=0, fontsize=18)\n",
        "plt.legend(loc=\"upper left\", fontsize=14)\n",
        "plt.axis([0, 3, 0, 18])\n",
        "plt.show()"
      ],
      "execution_count": null,
      "outputs": [
        {
          "output_type": "display_data",
          "data": {
            "image/png": "[encoded data removed]",
            "text/plain": [
              "<Figure size 432x288 with 1 Axes>"
            ]
          },
          "metadata": {
            "tags": [],
            "needs_background": "light"
          }
        }
      ]
    },
    {
      "cell_type": "markdown",
      "metadata": {
        "id": "uox5Eaq2-o5G",
        "colab_type": "text"
      },
      "source": [
        "## Régression polynomiale"
      ]
    },
    {
      "cell_type": "markdown",
      "metadata": {
        "id": "YJPcQdSN-o5G",
        "colab_type": "text"
      },
      "source": [
        "\\begin{equation*}\n",
        "y = \\theta_0 + \\theta_1 * x + \\theta_2 * x ** 2\n",
        "\\end{equation*}"
      ]
    },
    {
      "cell_type": "code",
      "metadata": {
        "ExecuteTime": {
          "end_time": "2020-09-13T16:52:37.799541Z",
          "start_time": "2020-09-13T16:52:37.795666Z"
        },
        "id": "YfPOpjRS-o5H",
        "colab_type": "code",
        "colab": {}
      },
      "source": [
        "# Simulation des données\n",
        "m = 100\n",
        "X = 6 * np.random.rand(m, 1) - 3\n",
        "y = 0.5 * X**2 + X + 2 + np.random.randn(m, 1)"
      ],
      "execution_count": null,
      "outputs": []
    },
    {
      "cell_type": "code",
      "metadata": {
        "ExecuteTime": {
          "end_time": "2020-09-13T16:54:32.492447Z",
          "start_time": "2020-09-13T16:54:32.356049Z"
        },
        "id": "h98H9ciR-o5J",
        "colab_type": "code",
        "colab": {},
        "outputId": "3e14a232-08bb-444e-ca5a-262b79132262"
      },
      "source": [
        "# Visualisation des données\n",
        "plt.plot(X, y, \"b.\", label=\"Données d'apprentissage\")\n",
        "plt.legend(loc=\"upper left\", fontsize=14)\n",
        "plt.show()"
      ],
      "execution_count": null,
      "outputs": [
        {
          "output_type": "display_data",
          "data": {
            "image/png": "[encoded data removed]",
            "text/plain": [
              "<Figure size 432x288 with 1 Axes>"
            ]
          },
          "metadata": {
            "tags": [],
            "needs_background": "light"
          }
        }
      ]
    },
    {
      "cell_type": "code",
      "metadata": {
        "ExecuteTime": {
          "end_time": "2020-09-13T17:01:52.293904Z",
          "start_time": "2020-09-13T17:01:52.289211Z"
        },
        "id": "5HFC22K5-o5L",
        "colab_type": "code",
        "colab": {},
        "outputId": "6cf0b8cb-2533-476b-893f-d8a453560258"
      },
      "source": [
        "# choix du modèle\n",
        "# la classe PolynomialFeatures de Scikit-Learn\n",
        "# polynômes du second degré\n",
        "from sklearn.preprocessing  import PolynomialFeatures\n",
        "modele_poly_features = PolynomialFeatures(degree=2, include_bias=False)\n",
        "X_poly = modele_poly_features.fit_transform(X)\n",
        "# X_poly contient la variable originelle de X et le carré de celle-ci [x, x**2]\n",
        "print(X[0])\n",
        "print(X_poly[0])"
      ],
      "execution_count": null,
      "outputs": [
        {
          "output_type": "stream",
          "text": [
            "[-2.82048691]\n",
            "[-2.82048691  7.95514642]\n"
          ],
          "name": "stdout"
        }
      ]
    },
    {
      "cell_type": "code",
      "metadata": {
        "ExecuteTime": {
          "end_time": "2020-09-13T17:05:15.838131Z",
          "start_time": "2020-09-13T17:05:15.829212Z"
        },
        "id": "pN8eUo3g-o5O",
        "colab_type": "code",
        "colab": {},
        "outputId": "2ceb818d-4ec5-41b8-dc6b-58eef3315be8"
      },
      "source": [
        "# adapter le modèle de régression linéaire à X_poly\n",
        "modele_lin_reg = LinearRegression()\n",
        "modele_lin_reg.fit(X_poly, y)\n",
        "modele_lin_reg.intercept_, modele_lin_reg.coef_"
      ],
      "execution_count": null,
      "outputs": [
        {
          "output_type": "execute_result",
          "data": {
            "text/plain": [
              "(array([2.08055439]), array([[1.00509009, 0.48556474]]))"
            ]
          },
          "metadata": {
            "tags": []
          },
          "execution_count": 29
        }
      ]
    },
    {
      "cell_type": "markdown",
      "metadata": {
        "id": "BZbkqn5i-o5Q",
        "colab_type": "text"
      },
      "source": [
        "2,081 + 1,005 * X + 0,486 X**2  vs. 2 + X + 0.5*X**2"
      ]
    },
    {
      "cell_type": "code",
      "metadata": {
        "ExecuteTime": {
          "end_time": "2020-09-13T17:19:15.769351Z",
          "start_time": "2020-09-13T17:19:15.618886Z"
        },
        "id": "RgGq5V3T-o5Q",
        "colab_type": "code",
        "colab": {},
        "outputId": "e9798f7e-c02f-492b-e059-752b8e5c2e13"
      },
      "source": [
        "X_new=np.linspace(-3, 3, 100).reshape(100, 1)\n",
        "X_new_poly = modele_poly_features.transform(X_new)\n",
        "y_new = modele_lin_reg.predict(X_new_poly)\n",
        "plt.plot(X, y, \"b.\")\n",
        "plt.plot(X_new, y_new, \"r-\", linewidth=2, label=\"Prédictions\")\n",
        "plt.xlabel(\"$x_1$\", fontsize=18)\n",
        "plt.ylabel(\"$y$\", rotation=0, fontsize=18)\n",
        "plt.legend(loc=\"upper left\", fontsize=14)\n",
        "plt.axis([-3, 3, 0, 10])\n",
        "plt.show()"
      ],
      "execution_count": null,
      "outputs": [
        {
          "output_type": "display_data",
          "data": {
            "image/png": "[encoded data removed]",
            "text/plain": [
              "<Figure size 432x288 with 1 Axes>"
            ]
          },
          "metadata": {
            "tags": [],
            "needs_background": "light"
          }
        }
      ]
    },
    {
      "cell_type": "markdown",
      "metadata": {
        "id": "pmHJeh_C-o5T",
        "colab_type": "text"
      },
      "source": [
        "### Les courbes d’apprentissage"
      ]
    },
    {
      "cell_type": "code",
      "metadata": {
        "ExecuteTime": {
          "end_time": "2020-09-13T17:28:54.414509Z",
          "start_time": "2020-09-13T17:28:54.407311Z"
        },
        "id": "ateWESt7-o5T",
        "colab_type": "code",
        "colab": {}
      },
      "source": [
        "from sklearn.metrics import mean_squared_error\n",
        "from sklearn.model_selection import train_test_split\n",
        "\n",
        "def plot_learning_curves(model, X, y):\n",
        "    X_train, X_val, y_train, y_val = train_test_split(X, y, test_size=0.2, random_state=10)\n",
        "    train_errors, val_errors = [], []\n",
        "    for m in range(1, len(X_train)):\n",
        "        model.fit(X_train[:m], y_train[:m])\n",
        "        y_train_predict = model.predict(X_train[:m])\n",
        "        y_val_predict = model.predict(X_val)\n",
        "        train_errors.append(mean_squared_error(y_train[:m], y_train_predict))\n",
        "        val_errors.append(mean_squared_error(y_val, y_val_predict))\n",
        "\n",
        "    plt.plot(np.sqrt(train_errors), \"r-+\", linewidth=2, label=\"train\")\n",
        "    plt.plot(np.sqrt(val_errors), \"b-\", linewidth=3, label=\"val\")\n",
        "    plt.legend(loc=\"upper right\", fontsize=14)   # not shown in the book\n",
        "    plt.xlabel(\"Training set size\", fontsize=14) # not shown\n",
        "    plt.ylabel(\"RMSE\", fontsize=14)              # not shown"
      ],
      "execution_count": null,
      "outputs": []
    },
    {
      "cell_type": "code",
      "metadata": {
        "ExecuteTime": {
          "end_time": "2020-09-13T17:29:37.625805Z",
          "start_time": "2020-09-13T17:29:37.428905Z"
        },
        "id": "W_g74CfM-o5V",
        "colab_type": "code",
        "colab": {},
        "outputId": "dd446f33-85ca-47d8-fa34-5e70ea8178d9"
      },
      "source": [
        "lin_reg = LinearRegression()\n",
        "plot_learning_curves(lin_reg, X, y)\n",
        "plt.axis([0, 80, 0, 3])                         # not shown in the book\n",
        "plt.show()  "
      ],
      "execution_count": null,
      "outputs": [
        {
          "output_type": "display_data",
          "data": {
            "image/png": "[encoded data removed]",
            "text/plain": [
              "<Figure size 432x288 with 1 Axes>"
            ]
          },
          "metadata": {
            "tags": [],
            "needs_background": "light"
          }
        }
      ]
    },
    {
      "cell_type": "markdown",
      "metadata": {
        "id": "SzrJ1E6M-o5X",
        "colab_type": "text"
      },
      "source": [
        "Les courbes d’apprentissage sont caractéristiques pour un modèle qui sous-ajuste : les deux courbes atteignent un plateau, elles sont proches et relativement hautes.\n",
        "\n",
        "Solution : \n",
        "1. choisir un modèle plus complexe \n",
        "\n",
        "2. trouver de meilleures variables."
      ]
    },
    {
      "cell_type": "markdown",
      "metadata": {
        "id": "bsMsMe3Y-o5Y",
        "colab_type": "text"
      },
      "source": [
        "### Un modèle polynomial de degré 10 sur les mêmes données (solution 1)"
      ]
    },
    {
      "cell_type": "code",
      "metadata": {
        "ExecuteTime": {
          "end_time": "2020-09-13T17:41:02.098552Z",
          "start_time": "2020-09-13T17:41:01.856548Z"
        },
        "id": "faaHvY7t-o5Y",
        "colab_type": "code",
        "colab": {},
        "outputId": "7d80c126-f1a9-42e8-b5b2-84bec694743a"
      },
      "source": [
        "from sklearn.pipeline import Pipeline\n",
        "\n",
        "polynomial_regression = Pipeline([\n",
        "        (\"poly_features\", PolynomialFeatures(degree=10, include_bias=False)),\n",
        "        (\"lin_reg\", LinearRegression()),\n",
        "    ])\n",
        "\n",
        "plot_learning_curves(polynomial_regression, X, y)\n",
        "plt.axis([0, 80, 0, 3])           # not shown\n",
        "plt.show()                        # not shown"
      ],
      "execution_count": null,
      "outputs": [
        {
          "output_type": "display_data",
          "data": {
            "image/png": "[encoded data removed]",
            "text/plain": [
              "<Figure size 432x288 with 1 Axes>"
            ]
          },
          "metadata": {
            "tags": [],
            "needs_background": "light"
          }
        }
      ]
    },
    {
      "cell_type": "code",
      "metadata": {
        "id": "XkJAUw6X-o5a",
        "colab_type": "code",
        "colab": {}
      },
      "source": [
        ""
      ],
      "execution_count": null,
      "outputs": []
    }
  ]
}